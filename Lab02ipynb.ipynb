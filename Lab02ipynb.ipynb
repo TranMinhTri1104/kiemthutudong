{
  "nbformat": 4,
  "nbformat_minor": 0,
  "metadata": {
    "colab": {
      "name": "Lab02ipynb",
      "provenance": [],
      "authorship_tag": "ABX9TyOkh2k1iKS5stiGThS2ZIvb",
      "include_colab_link": true
    },
    "kernelspec": {
      "name": "python3",
      "display_name": "Python 3"
    },
    "language_info": {
      "name": "python"
    }
  },
  "cells": [
    {
      "cell_type": "markdown",
      "metadata": {
        "id": "view-in-github",
        "colab_type": "text"
      },
      "source": [
        "<a href=\"https://colab.research.google.com/github/TranMinhTri1104/kiemthutudong/blob/main/Lab02ipynb.ipynb\" target=\"_parent\"><img src=\"https://colab.research.google.com/assets/colab-badge.svg\" alt=\"Open In Colab\"/></a>"
      ]
    },
    {
      "cell_type": "code",
      "metadata": {
        "colab": {
          "base_uri": "https://localhost:8080/"
        },
        "id": "g9IWBynAug0q",
        "outputId": "2be7b7ad-9f0b-4d7e-d59d-5073038bf34f"
      },
      "source": [
        "kingdoms = ['Bacteria', 'Protozoa', 'Chromista','Plantae', 'Fungi','Animalia']\n",
        "kingdoms[0]\n",
        "kingdoms[5]\n",
        "kingdoms[:3]\n",
        "kingdoms[2:5]\n",
        "kingdoms[4:]\n",
        "kingdoms[1:0]\n"
      ],
      "execution_count": 5,
      "outputs": [
        {
          "output_type": "execute_result",
          "data": {
            "text/plain": [
              "[]"
            ]
          },
          "metadata": {},
          "execution_count": 5
        }
      ]
    }
  ]
}